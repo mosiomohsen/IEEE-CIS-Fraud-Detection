{
  "nbformat": 4,
  "nbformat_minor": 0,
  "metadata": {
    "colab": {
      "name": "Fraud-Detection_Blending.ipynb",
      "provenance": [],
      "collapsed_sections": []
    },
    "kernelspec": {
      "name": "python3",
      "display_name": "Python 3"
    }
  },
  "cells": [
    {
      "cell_type": "code",
      "metadata": {
        "id": "xSYlok8QupWR",
        "colab_type": "code",
        "colab": {}
      },
      "source": [
        "import pandas as pd\n",
        "import numpy as np"
      ],
      "execution_count": 0,
      "outputs": []
    },
    {
      "cell_type": "code",
      "metadata": {
        "id": "JiRazXXCustv",
        "colab_type": "code",
        "colab": {}
      },
      "source": [
        "output_lgb_0 = pd.read_csv('output_lgb_0.csv')\n",
        "output_lgb_1 = pd.read_csv('output_lgb_1.csv')\n",
        "output_lgb_2 = pd.read_csv('output_lgb_2.csv')\n",
        "output_lgb_3 = pd.read_csv('output_lgb_3.csv')\n",
        "output_lgb_4 = pd.read_csv('output_lgb_4.csv')\n",
        "output_lgb_5 = pd.read_csv('output_lgb_5.csv')\n",
        "output_lgb_6 = pd.read_csv('output_lgb_6.csv')\n",
        "output_lgb_7 = pd.read_csv('output_lgb_7.csv')\n",
        "output_lgb_8 = pd.read_csv('output_lgb_8.csv')\n",
        "output_lgb_9 = pd.read_csv('output_lgb_9.csv')\n",
        "output_lgb_10 = pd.read_csv('output_lgb_10.csv')\n",
        "output_lgb_11 = pd.read_csv('output_lgb_11.csv')\n",
        "output_lgb_12 = pd.read_csv('output_lgb_12.csv')\n",
        "output_lgb_13 = pd.read_csv('output_lgb_13.csv')\n",
        "output_lgb_14 = pd.read_csv('output_lgb_14.csv')\n",
        "output_lgb_15 = pd.read_csv('output_lgb_15.csv')\n",
        "output_lgb_16 = pd.read_csv('output_lgb_16.csv')\n",
        "output_lgb_17 = pd.read_csv('output_lgb_17.csv')\n",
        "output_xgb_0 = pd.read_csv('output_xgb_0.csv')\n",
        "output_xgb_1 = pd.read_csv('output_xgb_1.csv')\n",
        "output_xgb_2 = pd.read_csv('output_xgb_2.csv')"
      ],
      "execution_count": 0,
      "outputs": []
    },
    {
      "cell_type": "code",
      "metadata": {
        "id": "VCfTS0b6x_p4",
        "colab_type": "code",
        "colab": {}
      },
      "source": [
        "W = [0.04133698, 0.0701725 , 0.05836355, 0.07590122, 0.05272211, 0.00984712, 0.0568769 , 0.04053816, 0.0317289 , 0.0562649 , 0.06936597,\n",
        "     0.07495798, 0.07339331, 0.00117963, 0.07280685, 0.01699404, 0.03832156, 0.01235676, 0.02861238, 0.06131444, 0.05694475]\n",
        "     \n",
        "output_weighted_blend = output_lgb_1.copy()\n",
        "output_weighted_blend['isFraud'] = output_lgb_0['isFraud']*W[0] + output_lgb_1['isFraud']*W[1] + output_lgb_2['isFraud']*W[2] +\n",
        "                                  output_lgb_3['isFraud']*W[3] + output_lgb_4['isFraud']*W[4] + output_lgb_5['isFraud']*W[5] +\n",
        "                                  output_lgb_6['isFraud']*W[6] + output_lgb_7['isFraud']*W[7] + output_lgb_8['isFraud']*W[8] +\n",
        "                                  output_lgb_9['isFraud']*W[9] + output_lgb_10['isFraud']*W[10] + output_lgb_11['isFraud']*W[11] +\n",
        "                                  output_lgb_12['isFraud']*W[12] + output_lgb_13['isFraud']*W[13] + output_lgb_14['isFraud']*W[14] +\n",
        "                                  output_lgb_15['isFraud']*W[15] + output_lgb_16['isFraud']*W[16] + output_lgb_17['isFraud']*W[17] +\n",
        "                                  output_xgb_0['isFraud']*W[18] + output_xgb_1['isFraud']*W[19] + output_xgb_2['isFraud']*W[20]"
      ],
      "execution_count": 0,
      "outputs": []
    },
    {
      "cell_type": "code",
      "metadata": {
        "id": "PEQWEitQ0nt0",
        "colab_type": "code",
        "colab": {}
      },
      "source": [
        "output_weighted_blend.to_csv('output_weighted_blend.csv', index=False)"
      ],
      "execution_count": 0,
      "outputs": []
    }
  ]
}