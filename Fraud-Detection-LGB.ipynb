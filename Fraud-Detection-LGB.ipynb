{
  "nbformat": 4,
  "nbformat_minor": 0,
  "metadata": {
    "kernelspec": {
      "display_name": "Python 3",
      "language": "python",
      "name": "python3"
    },
    "language_info": {
      "codemirror_mode": {
        "name": "ipython",
        "version": 3
      },
      "file_extension": ".py",
      "mimetype": "text/x-python",
      "name": "python",
      "nbconvert_exporter": "python",
      "pygments_lexer": "ipython3",
      "version": "3.6.6"
    },
    "colab": {
      "name": "Fraud-Detection-LGB.ipynb",
      "provenance": []
    }
  },
  "cells": [
    {
      "cell_type": "code",
      "metadata": {
        "_cell_guid": "b1076dfc-b9ad-4769-8c92-a6c4dae69d19",
        "_uuid": "8f2839f25d086af736a60e9eeb907d3b93b6e0e5",
        "id": "Ea_sTaptwMHL",
        "colab_type": "code",
        "colab": {}
      },
      "source": [
        "import numpy as np\n",
        "import pandas as pd\n",
        "import os, sys, gc, warnings, random, datetime\n",
        "\n",
        "from sklearn import metrics\n",
        "from sklearn.model_selection import train_test_split, KFold, TimeSeriesSplit, StratifiedKFold ,  GroupKFold\n",
        "from sklearn.preprocessing import LabelEncoder\n",
        "\n",
        "from tqdm import tqdm\n",
        "\n",
        "import math\n",
        "warnings.filterwarnings('ignore')"
      ],
      "execution_count": 0,
      "outputs": []
    },
    {
      "cell_type": "code",
      "metadata": {
        "_cell_guid": "79c7e3d0-c299-4dcb-8224-4455121ee9b0",
        "_uuid": "d629ff2d2480ee46fbb7e2d37f6b5fab8052498a",
        "id": "EGGqAPQAwMHT",
        "colab_type": "code",
        "colab": {}
      },
      "source": [
        "########################### Helpers\n",
        "#################################################################################\n",
        "## -------------------\n",
        "## Seeder\n",
        "# :seed to make all processes deterministic     # type: int\n",
        "def seed_everything(seed=0):\n",
        "    random.seed(seed)\n",
        "    os.environ['PYTHONHASHSEED'] = str(seed)\n",
        "    np.random.seed(seed)\n",
        "## ------------------- "
      ],
      "execution_count": 0,
      "outputs": []
    },
    {
      "cell_type": "code",
      "metadata": {
        "id": "JB7ixWGrwMHX",
        "colab_type": "code",
        "colab": {}
      },
      "source": [
        "########################### Vars\n",
        "#################################################################################\n",
        "SEED = 42\n",
        "seed_everything(SEED)\n",
        "LOCAL_TEST = False\n",
        "TARGET = 'isFraud'\n",
        "START_DATE = datetime.datetime.strptime('2017-11-30', '%Y-%m-%d')"
      ],
      "execution_count": 0,
      "outputs": []
    },
    {
      "cell_type": "code",
      "metadata": {
        "id": "FPb4Ul_3wMHc",
        "colab_type": "code",
        "colab": {}
      },
      "source": [
        "#LOCAL_TEST = True"
      ],
      "execution_count": 0,
      "outputs": []
    },
    {
      "cell_type": "code",
      "metadata": {
        "id": "4s-srcqhwMHg",
        "colab_type": "code",
        "colab": {},
        "outputId": "0c003f07-8011-467e-85e6-d74131b8dc94"
      },
      "source": [
        "########################### DATA LOAD\n",
        "#################################################################################\n",
        "print('Load Data')\n",
        "train_df = pd.read_pickle('../input/ieee-data-minification/train_transaction.pkl')\n",
        "\n",
        "if LOCAL_TEST:\n",
        "    \n",
        "    # Convert TransactionDT to \"Month\" time-period. \n",
        "    # We will also drop penultimate block \n",
        "    # to \"simulate\" test set values difference\n",
        "    train_df['DT_M'] = train_df['TransactionDT'].apply(lambda x: (START_DATE + datetime.timedelta(seconds = x)))\n",
        "    train_df['DT_M'] = (train_df['DT_M'].dt.year-2017)*12 + train_df['DT_M'].dt.month \n",
        "    test_df = train_df[train_df['DT_M']==train_df['DT_M'].max()].reset_index(drop=True)\n",
        "    train_df = train_df[train_df['DT_M']<(train_df['DT_M'].max()-1)].reset_index(drop=True)\n",
        "    \n",
        "    train_identity = pd.read_pickle('../input/ieee-data-minification/train_identity.pkl')\n",
        "    test_identity  = train_identity[train_identity['TransactionID'].isin(\n",
        "                                    test_df['TransactionID'])].reset_index(drop=True)\n",
        "    train_identity = train_identity[train_identity['TransactionID'].isin(\n",
        "                                    train_df['TransactionID'])].reset_index(drop=True)\n",
        "    del train_df['DT_M'], test_df['DT_M']\n",
        "    \n",
        "else:\n",
        "    test_df = pd.read_pickle('../input/ieee-data-minification/test_transaction.pkl')\n",
        "    train_identity = pd.read_pickle('../input/ieee-data-minification/train_identity.pkl')\n",
        "    test_identity = pd.read_pickle('../input/ieee-data-minification/test_identity.pkl')\n",
        "    \n",
        "base_columns = list(train_df) + list(train_identity)\n",
        "print('Shape control:', train_df.shape, test_df.shape)"
      ],
      "execution_count": 0,
      "outputs": [
        {
          "output_type": "stream",
          "text": [
            "Load Data\n",
            "Shape control: (590540, 394) (506691, 394)\n"
          ],
          "name": "stdout"
        }
      ]
    },
    {
      "cell_type": "code",
      "metadata": {
        "id": "xCVzoXwswMHk",
        "colab_type": "code",
        "colab": {}
      },
      "source": [
        "########################### D9 and TransactionDT\n",
        "# Let's add temporary \"time variables\" for aggregations\n",
        "# and add normal \"time variables\"\n",
        "\n",
        "# Also, seems that D9 column is an hour\n",
        "# and it is the same as df['DT'].dt.hour\n",
        "from pandas.tseries.holiday import USFederalHolidayCalendar as calendar\n",
        "dates_range = pd.date_range(start='2017-10-01', end='2019-01-01')\n",
        "us_holidays = calendar().holidays(start=dates_range.min(), end=dates_range.max())\n",
        "\n",
        "\n",
        "for df in [train_df, test_df]:\n",
        "    # Temporary\n",
        "    df['DT'] = df['TransactionDT'].apply(lambda x: (START_DATE + datetime.timedelta(seconds = x)))\n",
        "    df['DT_M'] = (df['DT'].dt.year-2017)*12 + df['DT'].dt.month\n",
        "    df['DT_W'] = (df['DT'].dt.year-2017)*52 + df['DT'].dt.weekofyear\n",
        "    df['DT_D'] = (df['DT'].dt.year-2017)*365 + df['DT'].dt.dayofyear\n",
        "    \n",
        "    #df['DT_hour'] = df['DT'].dt.hour\n",
        "    df['DT_hour'] = np.sin(2 * np.pi * df['DT'].dt.hour / 23.0)\n",
        "    #df['DT_day_week'] = df['DT'].dt.dayofweek\n",
        "    df['DT_day_week'] = np.sin(2 * np.pi * df['DT'].dt.dayofweek / 6.0)\n",
        "    #df['DT_day'] = df['DT'].dt.day\n",
        "    df['DT_day'] = np.sin(2 * np.pi * df['DT'].dt.day / 31.0)\n",
        "\n",
        "\n",
        "    # Holidays\n",
        "    df['is_holiday'] = (df['DT'].dt.date.astype('datetime64').isin(us_holidays)).astype(np.int8)\n",
        "\n",
        "    # D9 column\n",
        "    df['D9'] = np.where(df['D9'].isna(),0,1)\n",
        "        \n",
        "# Total transactions per timeblock\n",
        "for col in ['DT_M','DT_W','DT_D']:\n",
        "    temp_df = pd.concat([train_df[[col]], test_df[[col]]])\n",
        "    fq_encode = temp_df[col].value_counts().to_dict()\n",
        "            \n",
        "    train_df[col+'_total'] = train_df[col].map(fq_encode)\n",
        "    test_df[col+'_total']  = test_df[col].map(fq_encode)"
      ],
      "execution_count": 0,
      "outputs": []
    },
    {
      "cell_type": "code",
      "metadata": {
        "id": "YuGjO8KZwMHo",
        "colab_type": "code",
        "colab": {}
      },
      "source": [
        "def make_duplicate_feature(df, cols_to_match, window_size=3):\n",
        "    \"\"\"\n",
        "    Counts the number of duplicate transactions in a temporal window\n",
        "    of width 2*window_size.\n",
        "    \n",
        "    Parameters:\n",
        "    -----------\n",
        "    df : pd.DataFrame, \n",
        "        The dataset.\n",
        "        \n",
        "    cols_to_match : list,\n",
        "        Columns which are required to be equal to be considered a match. \n",
        "        \n",
        "    window_size : (float, int)\n",
        "        Controls the size of the window (in minutes) to search for\n",
        "        duplicates.\n",
        "\n",
        "    Returns:\n",
        "    --------\n",
        "    duplicate_counts : list,\n",
        "        List of length df.shape[0] which counts the duplicate transactions.\n",
        "    \"\"\"\n",
        "    window_size = window_size * 60 # convert to seconds\n",
        "    df['TransactionDT'] = df['TransactionDT']\n",
        "    # Thanks to WeNYoBen on SO for speeding this bit up: https://stackoverflow.com/questions/57101482/counting-duplicate-row-within-a-rolling-window-of-a-pandas-df\n",
        "    s = pd.Series(df[cols_to_match].apply(tuple,1).map(hash).values,\n",
        "                  index=df.TransactionDT)\n",
        "    duplicate_count = [sum(s.loc[x-window_size:x+window_size]==y)-1 for x ,y in zip(s.index,s)]\n",
        "    \n",
        "    return duplicate_count"
      ],
      "execution_count": 0,
      "outputs": []
    },
    {
      "cell_type": "code",
      "metadata": {
        "id": "htR8KtsHwMHr",
        "colab_type": "code",
        "colab": {}
      },
      "source": [
        "cols = ['TransactionAmt','ProductCD','card1','card2','card3',\n",
        "        'card4','card5','card6','addr1','addr2']\n",
        "\n",
        "test_df['duplicate_count'] = make_duplicate_feature(test_df, cols_to_match=cols)\n",
        "train_df['duplicate_count'] = make_duplicate_feature(train_df, cols_to_match=cols)"
      ],
      "execution_count": 0,
      "outputs": []
    },
    {
      "cell_type": "code",
      "metadata": {
        "id": "AM6mA0tdwMHu",
        "colab_type": "code",
        "colab": {}
      },
      "source": [
        "########################### Reset values for \"noise\" card1\n",
        "i_cols = ['card1']\n",
        "\n",
        "for col in i_cols: \n",
        "    valid_card = pd.concat([train_df[[col]], test_df[[col]]])\n",
        "    valid_card = valid_card[col].value_counts()\n",
        "    valid_card = valid_card[valid_card>2]\n",
        "    valid_card = list(valid_card.index)\n",
        "\n",
        "    train_df[col] = np.where(train_df[col].isin(test_df[col]), train_df[col], np.nan)\n",
        "    test_df[col]  = np.where(test_df[col].isin(train_df[col]), test_df[col], np.nan)\n",
        "\n",
        "    train_df[col] = np.where(train_df[col].isin(valid_card), train_df[col], np.nan)\n",
        "    test_df[col]  = np.where(test_df[col].isin(valid_card), test_df[col], np.nan)"
      ],
      "execution_count": 0,
      "outputs": []
    },
    {
      "cell_type": "code",
      "metadata": {
        "id": "Ou-RjSzTwMHy",
        "colab_type": "code",
        "colab": {}
      },
      "source": [
        "########################### M columns (except M4)\n",
        "# All these columns are binary encoded 1/0\n",
        "# We can have some features from it\n",
        "i_cols = ['M1','M2','M3','M5','M6','M7','M8','M9']\n",
        "\n",
        "for df in [train_df, test_df]:\n",
        "    df['M_sum'] = df[i_cols].sum(axis=1).astype(np.int8)\n",
        "    df['M_na'] = df[i_cols].isna().sum(axis=1).astype(np.int8)"
      ],
      "execution_count": 0,
      "outputs": []
    },
    {
      "cell_type": "code",
      "metadata": {
        "id": "XidkP_Y5wMH2",
        "colab_type": "code",
        "colab": {}
      },
      "source": [
        "######################## 'P_emaildomain' - 'R_emaildomain'\n",
        "p = 'P_emaildomain'\n",
        "r = 'R_emaildomain'\n",
        "uknown = 'email_not_provided'\n",
        "\n",
        "for df in [train_df, test_df]:\n",
        "    df[p] = df[p].fillna(uknown)\n",
        "    df[r] = df[r].fillna(uknown)\n",
        "    \n",
        "    # Check if P_emaildomain matches R_emaildomain\n",
        "    df['email_check'] = np.where((df[p]==df[r])&(df[p]!=uknown),1,0)\n",
        "\n",
        "    df[p+'_prefix'] = df[p].apply(lambda x: x.split('.')[0])\n",
        "    df[r+'_prefix'] = df[r].apply(lambda x: x.split('.')[0])\n",
        "\n",
        "## Local test doesn't show any boost here, \n",
        "## but I think it's a good option for model stability \n",
        "\n",
        "## Also, we will do frequency encoding later"
      ],
      "execution_count": 0,
      "outputs": []
    },
    {
      "cell_type": "code",
      "metadata": {
        "id": "Pb1mfovBwMH5",
        "colab_type": "code",
        "colab": {},
        "outputId": "77905050-4841-4f7a-fc41-65aa345222d1"
      },
      "source": [
        "print(train_df.shape)\n",
        "print(test_df.shape)"
      ],
      "execution_count": 0,
      "outputs": [
        {
          "output_type": "stream",
          "text": [
            "(590540, 411)\n",
            "(506691, 411)\n"
          ],
          "name": "stdout"
        }
      ]
    },
    {
      "cell_type": "code",
      "metadata": {
        "id": "aL4gzSDwwMH9",
        "colab_type": "code",
        "colab": {}
      },
      "source": [
        "########################### TransactionAmt\n",
        "\n",
        "# Let's add some kind of client uID based on cardID ad addr columns\n",
        "# The value will be very specific for each client so we need to remove it\n",
        "# from final feature. But we can use it for aggregations.\n",
        "train_df['uid'] = train_df['card1'].astype(str)+'_'+train_df['card2'].astype(str)\n",
        "test_df['uid'] = test_df['card1'].astype(str)+'_'+test_df['card2'].astype(str)\n",
        "\n",
        "train_df['uid2'] = train_df['uid'].astype(str)+'_'+train_df['card3'].astype(str)+'_'+train_df['card4'].astype(str)\n",
        "test_df['uid2'] = test_df['uid'].astype(str)+'_'+test_df['card3'].astype(str)+'_'+test_df['card4'].astype(str)\n",
        "\n",
        "train_df['uid3'] = train_df['uid2'].astype(str)+'_'+train_df['addr1'].astype(str)+'_'+train_df['addr2'].astype(str)\n",
        "test_df['uid3'] = test_df['uid2'].astype(str)+'_'+test_df['addr1'].astype(str)+'_'+test_df['addr2'].astype(str)\n",
        "\n",
        "# Check if the Transaction Amount is common or not (we can use freq encoding here)\n",
        "# In our dialog with a model we are telling to trust or not to these values   \n",
        "train_df['TransactionAmt_check'] = np.where(train_df['TransactionAmt'].isin(test_df['TransactionAmt']), 1, 0)\n",
        "test_df['TransactionAmt_check']  = np.where(test_df['TransactionAmt'].isin(train_df['TransactionAmt']), 1, 0)\n",
        "\n",
        "# For our model current TransactionAmt is a noise\n",
        "# https://www.kaggle.com/kyakovlev/ieee-check-noise\n",
        "# (even if features importances are telling contrariwise)\n",
        "# There are many unique values and model doesn't generalize well\n",
        "# Lets do some aggregations\n",
        "i_cols = ['card1','card2','card3','card5','uid','uid2','uid3','P_emaildomain_prefix','R_emaildomain_prefix','duplicate_count','addr1']\n",
        "\n",
        "for col in i_cols:\n",
        "    for agg_type in ['mean','std']:\n",
        "        new_col_name = col+'_TransactionAmt_'+agg_type\n",
        "        temp_df = pd.concat([train_df[[col, 'TransactionAmt']], test_df[[col,'TransactionAmt']]])\n",
        "        #temp_df['TransactionAmt'] = temp_df['TransactionAmt'].astype(int)\n",
        "        temp_df = temp_df.groupby([col])['TransactionAmt'].agg([agg_type]).reset_index().rename(\n",
        "                                                columns={agg_type: new_col_name})\n",
        "        \n",
        "        temp_df.index = list(temp_df[col])\n",
        "        temp_df = temp_df[new_col_name].to_dict()   \n",
        "    \n",
        "        train_df[new_col_name] = train_df[col].map(temp_df)\n",
        "        test_df[new_col_name]  = test_df[col].map(temp_df)\n",
        "           \n",
        "# Small \"hack\" to transform distribution \n",
        "# (doesn't affect auc much, but I like it more)\n",
        "# please see how distribution transformation can boost your score \n",
        "# (not our case but related)\n",
        "# https://scikit-learn.org/stable/auto_examples/compose/plot_transformed_target.html\n",
        "train_df['TransactionAmt'] = np.log1p(train_df['TransactionAmt'])\n",
        "test_df['TransactionAmt'] = np.log1p(test_df['TransactionAmt'])        \n"
      ],
      "execution_count": 0,
      "outputs": []
    },
    {
      "cell_type": "code",
      "metadata": {
        "id": "0QpqpQxCwMIA",
        "colab_type": "code",
        "colab": {}
      },
      "source": [
        "for df in [train_identity, test_identity]:\n",
        "    ########################### Device info\n",
        "    df['DeviceInfo'] = df['DeviceInfo'].fillna('unknown_device').str.lower()\n",
        "    df['DeviceInfo_device'] = df['DeviceInfo'].apply(lambda x: ''.join([i for i in x if i.isalpha()]))\n",
        "    df['DeviceInfo_version'] = df['DeviceInfo'].apply(lambda x: ''.join([i for i in x if i.isnumeric()]))\n",
        "    \n",
        "    ########################### Device info 2\n",
        "    df['id_30'] = df['id_30'].fillna('unknown_device').str.lower()\n",
        "    df['id_30_device'] = df['id_30'].apply(lambda x: ''.join([i for i in x if i.isalpha()]))\n",
        "    df['id_30_version'] = df['id_30'].apply(lambda x: ''.join([i for i in x if i.isnumeric()]))\n",
        "    \n",
        "    ########################### Browser\n",
        "    df['id_31'] = df['id_31'].fillna('unknown_device').str.lower()\n",
        "    df['id_31_device'] = df['id_31'].apply(lambda x: ''.join([i for i in x if i.isalpha()]))"
      ],
      "execution_count": 0,
      "outputs": []
    },
    {
      "cell_type": "code",
      "metadata": {
        "id": "HUuO6WybwMIE",
        "colab_type": "code",
        "colab": {}
      },
      "source": [
        "########################### ProductCD and M4 Target mean\n",
        "for col in ['ProductCD','M4','P_emaildomain_prefix','R_emaildomain_prefix','M_sum','duplicate_count']:\n",
        "    temp_dict = train_df.groupby([col])[TARGET].agg(['mean']).reset_index().rename(\n",
        "                                                        columns={'mean': col+'_target_mean'})\n",
        "    temp_dict.index = temp_dict[col].values\n",
        "    temp_dict = temp_dict[col+'_target_mean'].to_dict()\n",
        "\n",
        "    train_df[col+'_target_mean'] = train_df[col].map(temp_dict)\n",
        "    test_df[col+'_target_mean']  = test_df[col].map(temp_dict)"
      ],
      "execution_count": 0,
      "outputs": []
    },
    {
      "cell_type": "code",
      "metadata": {
        "id": "10KpVvZFwMIJ",
        "colab_type": "code",
        "colab": {}
      },
      "source": [
        "########################### Merge Identity columns\n",
        "temp_df = train_df[['TransactionID']]\n",
        "temp_df = temp_df.merge(train_identity, on=['TransactionID'], how='left')\n",
        "del temp_df['TransactionID']\n",
        "train_df = pd.concat([train_df,temp_df], axis=1)\n",
        "    \n",
        "temp_df = test_df[['TransactionID']]\n",
        "temp_df = temp_df.merge(test_identity, on=['TransactionID'], how='left')\n",
        "del temp_df['TransactionID']\n",
        "test_df = pd.concat([test_df,temp_df], axis=1)\n"
      ],
      "execution_count": 0,
      "outputs": []
    },
    {
      "cell_type": "code",
      "metadata": {
        "id": "kqNrWWYowMIM",
        "colab_type": "code",
        "colab": {}
      },
      "source": [
        "######################### Freq encoding\n",
        "i_cols = ['card1','card2','card3','card5',\n",
        "          'C1','C2','C3','C4','C5','C6','C7','C8','C9','C10','C11','C12','C13','C14',\n",
        "          'D1','D2','D3','D4','D5','D6','D7','D8',\n",
        "          'addr1','addr2',\n",
        "          'dist1','dist2',\n",
        "          'P_emaildomain', 'R_emaildomain', 'P_emaildomain_prefix', 'R_emaildomain_prefix',\n",
        "          'DeviceInfo','DeviceInfo_device','DeviceInfo_version',\n",
        "          'id_30','id_30_device','id_30_version',\n",
        "          'id_31_device', 'id_33', 'uid','uid2','uid3',\n",
        "         ]\n",
        "\n",
        "for col in i_cols:\n",
        "    temp_df = pd.concat([train_df[[col]], test_df[[col]]])\n",
        "    fq_encode = temp_df[col].value_counts(dropna=False).to_dict()   \n",
        "    train_df[col+'_fq_enc'] = train_df[col].map(fq_encode)\n",
        "    test_df[col+'_fq_enc']  = test_df[col].map(fq_encode)\n",
        "\n",
        "\n",
        "for col in ['DT_M','DT_W','DT_D']:\n",
        "    temp_df = pd.concat([train_df[[col]], test_df[[col]]])\n",
        "    fq_encode = temp_df[col].value_counts().to_dict()\n",
        "            \n",
        "    train_df[col+'_total'] = train_df[col].map(fq_encode)\n",
        "    test_df[col+'_total']  = test_df[col].map(fq_encode)\n",
        "        \n",
        "\n",
        "periods = ['DT_M','DT_W','DT_D']\n",
        "i_cols = ['uid']\n",
        "for period in periods:\n",
        "    for col in i_cols:\n",
        "        new_column = col + '_' + period\n",
        "            \n",
        "        temp_df = pd.concat([train_df[[col,period]], test_df[[col,period]]])\n",
        "        temp_df[new_column] = temp_df[col].astype(str) + '_' + (temp_df[period]).astype(str)\n",
        "        fq_encode = temp_df[new_column].value_counts().to_dict()\n",
        "            \n",
        "        train_df[new_column] = (train_df[col].astype(str) + '_' + train_df[period].astype(str)).map(fq_encode)\n",
        "        test_df[new_column]  = (test_df[col].astype(str) + '_' + test_df[period].astype(str)).map(fq_encode)\n",
        "        \n",
        "        train_df[new_column] /= train_df[period+'_total']\n",
        "        test_df[new_column]  /= test_df[period+'_total']"
      ],
      "execution_count": 0,
      "outputs": []
    },
    {
      "cell_type": "code",
      "metadata": {
        "id": "yNbgPZ8ywMIP",
        "colab_type": "code",
        "colab": {},
        "outputId": "2842b917-2125-4b28-a90d-a4a739b8a8e6"
      },
      "source": [
        "########################## Encode Str columns\n",
        "# For all such columns (probably not)\n",
        "# we already did frequency encoding (numeric feature)\n",
        "# so we will use astype('category') here\n",
        "for col in list(train_df):\n",
        "    if train_df[col].dtype=='O':\n",
        "        print(col)\n",
        "        train_df[col] = train_df[col].fillna('unseen_before_label')\n",
        "        test_df[col]  = test_df[col].fillna('unseen_before_label')\n",
        "        \n",
        "        train_df[col] = train_df[col].astype(str)\n",
        "        test_df[col] = test_df[col].astype(str)\n",
        "        \n",
        "        le = LabelEncoder()\n",
        "        le.fit(list(train_df[col])+list(test_df[col]))\n",
        "        train_df[col] = le.transform(train_df[col])\n",
        "        test_df[col]  = le.transform(test_df[col])\n",
        "        \n",
        "        train_df[col] = train_df[col].astype('category')\n",
        "        test_df[col] = test_df[col].astype('category')"
      ],
      "execution_count": 0,
      "outputs": [
        {
          "output_type": "stream",
          "text": [
            "P_emaildomain\n",
            "R_emaildomain\n",
            "P_emaildomain_prefix\n",
            "R_emaildomain_prefix\n",
            "uid\n",
            "uid2\n",
            "uid3\n",
            "id_30\n",
            "id_31\n",
            "DeviceType\n",
            "DeviceInfo\n",
            "DeviceInfo_device\n",
            "DeviceInfo_version\n",
            "id_30_device\n",
            "id_30_version\n",
            "id_31_device\n"
          ],
          "name": "stdout"
        }
      ]
    },
    {
      "cell_type": "code",
      "metadata": {
        "id": "-Y4pybJlwMIT",
        "colab_type": "code",
        "colab": {}
      },
      "source": [
        "########################## Model Features \n",
        "## We can use set().difference() but the order matters\n",
        "## Matters only for deterministic results\n",
        "## In case of remove() we will not change order\n",
        "## even if variable will be renamed\n",
        "## please see this link to see how set is ordered\n",
        "## https://stackoverflow.com/questions/12165200/order-of-unordered-python-sets\n",
        "rm_cols = [\n",
        "    'TransactionID','TransactionDT', # These columns are pure noise right now\n",
        "    TARGET,                          # Not target in features))\n",
        "    'uid','uid2','uid3',             # Our new client uID -> very noisy data\n",
        "    'bank_type',                     # Victims bank could differ by time\n",
        "    'DT','DT_M','DT_W','DT_D',       # Temporary Variables\n",
        "    'DT_D_total','DT_W_total','DT_M_total',\n",
        "    'id_30','id_31','id_33'\n",
        "]"
      ],
      "execution_count": 0,
      "outputs": []
    },
    {
      "cell_type": "code",
      "metadata": {
        "id": "bm0UWXoRwMIY",
        "colab_type": "code",
        "colab": {},
        "outputId": "cccbe9a1-c6e9-4467-bc72-cda3600a6521"
      },
      "source": [
        "########################## Features elimination \n",
        "from scipy.stats import ks_2samp\n",
        "features_check = []\n",
        "columns_to_check = set(list(train_df)).difference(base_columns+rm_cols)\n",
        "for i in columns_to_check:\n",
        "    features_check.append(ks_2samp(test_df.iloc[17865:,:][i], train_df[i])[1])\n",
        "\n",
        "features_check = pd.Series(features_check, index=columns_to_check).sort_values() \n",
        "features_discard = list(features_check[features_check==0.00].index)\n",
        "print(features_discard)\n",
        "\n",
        "\n",
        "# Final features list\n"
      ],
      "execution_count": 0,
      "outputs": [
        {
          "output_type": "stream",
          "text": [
            "['D7_fq_enc', 'R_emaildomain_prefix_fq_enc', 'DeviceInfo_version', 'DT_day', 'D6_fq_enc', 'id_30_version', 'DeviceInfo_device_fq_enc', 'id_30_version_fq_enc', 'id_30_fq_enc', 'R_emaildomain_prefix_target_mean', 'M_sum', 'R_emaildomain_prefix_TransactionAmt_std', 'id_31_device', 'uid_DT_D', 'C10_fq_enc', 'D5_fq_enc', 'M_sum_target_mean', 'R_emaildomain_prefix_TransactionAmt_mean', 'R_emaildomain_fq_enc', 'DeviceInfo_version_fq_enc', 'D4_fq_enc', 'C12_fq_enc', 'M_na', 'DeviceInfo_fq_enc', 'D3_fq_enc', 'id_31_device_fq_enc', 'id_33_fq_enc', 'id_30_device_fq_enc']\n"
          ],
          "name": "stdout"
        }
      ]
    },
    {
      "cell_type": "code",
      "metadata": {
        "id": "OTeg5kHkwMIe",
        "colab_type": "code",
        "colab": {},
        "outputId": "706935c9-8368-43f7-b165-1a61a5fb15d7"
      },
      "source": [
        "len(features_discard)"
      ],
      "execution_count": 0,
      "outputs": [
        {
          "output_type": "execute_result",
          "data": {
            "text/plain": [
              "28"
            ]
          },
          "metadata": {
            "tags": []
          },
          "execution_count": 21
        }
      ]
    },
    {
      "cell_type": "code",
      "metadata": {
        "id": "ad_xrqcKwMIv",
        "colab_type": "code",
        "colab": {}
      },
      "source": [
        "features_columns = [col for col in list(train_df) if col not in rm_cols + features_discard]"
      ],
      "execution_count": 0,
      "outputs": []
    },
    {
      "cell_type": "code",
      "metadata": {
        "id": "vV2RMq0pwMIz",
        "colab_type": "code",
        "colab": {}
      },
      "source": [
        "########################### Model\n",
        "import lightgbm as lgb\n",
        "\n",
        "def make_predictions(tr_df, tt_df, features_columns, target, lgb_params, NFOLDS=10):\n",
        "    \n",
        "    if LOCAL_TEST:\n",
        "        X,y = tr_df[features_columns], tr_df[target]    \n",
        "        P,P_y = tt_df[features_columns], tt_df[target] \n",
        "        \n",
        "        tt_df = tt_df[['TransactionID',target]]    \n",
        "        predictions = np.zeros(len(tt_df))\n",
        "        \n",
        "        tr_data = lgb.Dataset(X, label=y)\n",
        "        \n",
        "        vl_data = lgb.Dataset(P, label=P_y)\n",
        "        \n",
        "        estimator = lgb.train(\n",
        "            lgb_params,\n",
        "            tr_data,\n",
        "            valid_sets = [tr_data, vl_data],\n",
        "            verbose_eval = 200\n",
        "        )\n",
        "        pp_p = estimator.predict(P)\n",
        "        predictions += (pp_p/1)\n",
        "        \n",
        "        feature_imp = pd.DataFrame(sorted(zip(estimator.feature_importance(),X.columns)), columns=['Value','Feature'])\n",
        "        print(feature_imp)\n",
        "        \n",
        "        del tr_data, vl_data\n",
        "        gc.collect()\n",
        "        \n",
        "        tt_df['prediction'] = predictions\n",
        "        return tt_df, feature_imp\n",
        "#################################################################################################\n",
        "    else :\n",
        "        folds = StratifiedKFold(n_splits=NFOLDS)\n",
        "        X,y = tr_df[features_columns], tr_df[target]    \n",
        "        P,P_y = tt_df[features_columns], tt_df[target]  \n",
        "\n",
        "        tt_df = tt_df[['TransactionID',target]]    \n",
        "        predictions = np.zeros(len(tt_df))\n",
        "\n",
        "        for fold_, (trn_idx, val_idx) in enumerate(folds.split(X, y)):\n",
        "            print('Fold:',fold_)\n",
        "            tr_x, tr_y = X.iloc[trn_idx,:], y[trn_idx]\n",
        "            vl_x, vl_y = X.iloc[val_idx,:], y[val_idx]\n",
        "\n",
        "            print(len(tr_x),len(vl_x))\n",
        "            tr_data = lgb.Dataset(tr_x, label=tr_y)\n",
        "\n",
        "            if LOCAL_TEST:\n",
        "                vl_data = lgb.Dataset(P, label=P_y) \n",
        "            else:\n",
        "                vl_data = lgb.Dataset(vl_x, label=vl_y)  \n",
        "\n",
        "            estimator = lgb.train(\n",
        "                lgb_params,\n",
        "                tr_data,\n",
        "                valid_sets = [tr_data, vl_data],\n",
        "                verbose_eval = 200\n",
        "            )   \n",
        "\n",
        "            pp_p = estimator.predict(P)\n",
        "            predictions += (pp_p/NFOLDS)\n",
        "\n",
        "            if LOCAL_TEST:\n",
        "                feature_imp = pd.DataFrame(sorted(zip(estimator.feature_importance(),X.columns)), columns=['Value','Feature'])\n",
        "                print(feature_imp)\n",
        "            elif fold_==0:\n",
        "                feature_imp = pd.DataFrame(sorted(zip(estimator.feature_importance()/NFOLDS,X.columns)), columns=['Value','Feature'])\n",
        "            else:\n",
        "                feature_imp['Value'] += (estimator.feature_importance()/NFOLDS)\n",
        "\n",
        "\n",
        "            del tr_x, tr_y, vl_x, vl_y, tr_data, vl_data\n",
        "            gc.collect()\n",
        "\n",
        "        tt_df['prediction'] = predictions\n",
        "\n",
        "        return tt_df, feature_imp"
      ],
      "execution_count": 0,
      "outputs": []
    },
    {
      "cell_type": "code",
      "metadata": {
        "id": "GldESMoXwMI5",
        "colab_type": "code",
        "colab": {}
      },
      "source": [
        "######################### Model params\n",
        "lgb_params = {\n",
        "                    'objective':'binary',\n",
        "                    'boosting_type':'gbdt',\n",
        "                    'metric':'auc',\n",
        "                    'n_jobs':-1,\n",
        "                    'learning_rate':0.01,\n",
        "                    'num_leaves': 2**8,\n",
        "                    'max_depth':-1,\n",
        "                    'tree_learner':'serial',\n",
        "                    'colsample_bytree': 0.5,\n",
        "                    'subsample_freq':1,\n",
        "                    'subsample':0.7,\n",
        "                    'n_estimators':800,\n",
        "                    'max_bin':255,\n",
        "                    'verbose':-1,\n",
        "                    'seed': SEED,\n",
        "                    'early_stopping_rounds':100, \n",
        "                } "
      ],
      "execution_count": 0,
      "outputs": []
    },
    {
      "cell_type": "code",
      "metadata": {
        "id": "95-jJLp0wMI8",
        "colab_type": "code",
        "colab": {},
        "outputId": "4681f274-370d-4667-91d8-c2c9c04dc871"
      },
      "source": [
        "########################## Model Train\n",
        "if LOCAL_TEST:\n",
        "    lgb_params['learning_rate'] = 0.007\n",
        "    lgb_params['n_estimators'] = 2000\n",
        "    lgb_params['early_stopping_rounds'] = 100\n",
        "    lgb_params['importance_type'] = 'gain'\n",
        "    test_predictions, feature_imp = make_predictions(train_df, test_df, features_columns, TARGET, lgb_params, NFOLDS=3)\n",
        "    print(metrics.roc_auc_score(test_predictions[TARGET], test_predictions['prediction']))\n",
        "else:\n",
        "    lgb_params['learning_rate'] = 0.007\n",
        "    lgb_params['n_estimators'] = 1000\n",
        "    lgb_params['early_stopping_rounds'] = 100\n",
        "    lgb_params['importance_type'] = 'gain'\n",
        "    test_predictions , feature_imp = make_predictions(train_df, test_df, features_columns, TARGET, lgb_params, NFOLDS=10)"
      ],
      "execution_count": 0,
      "outputs": [
        {
          "output_type": "stream",
          "text": [
            "Fold: 0\n",
            "546782 60755\n",
            "Training until validation scores don't improve for 100 rounds.\n",
            "[200]\ttraining's auc: 0.953856\tvalid_1's auc: 0.898993\n",
            "[400]\ttraining's auc: 0.977553\tvalid_1's auc: 0.913995\n",
            "[600]\ttraining's auc: 0.988559\tvalid_1's auc: 0.920616\n",
            "[800]\ttraining's auc: 0.993874\tvalid_1's auc: 0.923081\n",
            "[1000]\ttraining's auc: 0.996659\tvalid_1's auc: 0.924153\n",
            "Did not meet early stopping. Best iteration is:\n",
            "[1000]\ttraining's auc: 0.996659\tvalid_1's auc: 0.924153\n",
            "Fold: 1\n",
            "546782 60755\n",
            "Training until validation scores don't improve for 100 rounds.\n",
            "[200]\ttraining's auc: 0.952801\tvalid_1's auc: 0.896247\n",
            "[400]\ttraining's auc: 0.977021\tvalid_1's auc: 0.914612\n",
            "[600]\ttraining's auc: 0.988467\tvalid_1's auc: 0.923867\n",
            "[800]\ttraining's auc: 0.993788\tvalid_1's auc: 0.92827\n",
            "[1000]\ttraining's auc: 0.996573\tvalid_1's auc: 0.930393\n",
            "Did not meet early stopping. Best iteration is:\n",
            "[1000]\ttraining's auc: 0.996573\tvalid_1's auc: 0.930393\n",
            "Fold: 2\n",
            "546782 60755\n",
            "Training until validation scores don't improve for 100 rounds.\n",
            "[200]\ttraining's auc: 0.952607\tvalid_1's auc: 0.906607\n",
            "[400]\ttraining's auc: 0.976306\tvalid_1's auc: 0.92845\n",
            "[600]\ttraining's auc: 0.988061\tvalid_1's auc: 0.939256\n",
            "[800]\ttraining's auc: 0.993642\tvalid_1's auc: 0.943331\n",
            "[1000]\ttraining's auc: 0.996521\tvalid_1's auc: 0.945158\n",
            "Did not meet early stopping. Best iteration is:\n",
            "[1000]\ttraining's auc: 0.996521\tvalid_1's auc: 0.945158\n",
            "Fold: 3\n",
            "546783 60754\n",
            "Training until validation scores don't improve for 100 rounds.\n",
            "[200]\ttraining's auc: 0.951911\tvalid_1's auc: 0.931991\n",
            "[400]\ttraining's auc: 0.97561\tvalid_1's auc: 0.946279\n",
            "[600]\ttraining's auc: 0.987401\tvalid_1's auc: 0.953129\n",
            "[800]\ttraining's auc: 0.993176\tvalid_1's auc: 0.956159\n",
            "[1000]\ttraining's auc: 0.9962\tvalid_1's auc: 0.958057\n",
            "Did not meet early stopping. Best iteration is:\n",
            "[1000]\ttraining's auc: 0.9962\tvalid_1's auc: 0.958057\n",
            "Fold: 4\n",
            "546784 60753\n",
            "Training until validation scores don't improve for 100 rounds.\n",
            "[200]\ttraining's auc: 0.952134\tvalid_1's auc: 0.917296\n",
            "[400]\ttraining's auc: 0.976118\tvalid_1's auc: 0.933877\n",
            "[600]\ttraining's auc: 0.987926\tvalid_1's auc: 0.94013\n",
            "[800]\ttraining's auc: 0.993579\tvalid_1's auc: 0.943181\n",
            "[1000]\ttraining's auc: 0.996413\tvalid_1's auc: 0.944773\n",
            "Did not meet early stopping. Best iteration is:\n",
            "[1000]\ttraining's auc: 0.996413\tvalid_1's auc: 0.944773\n",
            "Fold: 5\n",
            "546784 60753\n",
            "Training until validation scores don't improve for 100 rounds.\n",
            "[200]\ttraining's auc: 0.953931\tvalid_1's auc: 0.914377\n",
            "[400]\ttraining's auc: 0.977253\tvalid_1's auc: 0.93307\n",
            "[600]\ttraining's auc: 0.988627\tvalid_1's auc: 0.941278\n",
            "[800]\ttraining's auc: 0.993985\tvalid_1's auc: 0.945047\n",
            "[1000]\ttraining's auc: 0.996742\tvalid_1's auc: 0.946924\n",
            "Did not meet early stopping. Best iteration is:\n",
            "[1000]\ttraining's auc: 0.996742\tvalid_1's auc: 0.946924\n",
            "Fold: 6\n",
            "546784 60753\n",
            "Training until validation scores don't improve for 100 rounds.\n",
            "[200]\ttraining's auc: 0.951952\tvalid_1's auc: 0.924369\n",
            "[400]\ttraining's auc: 0.975821\tvalid_1's auc: 0.942539\n",
            "[600]\ttraining's auc: 0.987612\tvalid_1's auc: 0.950736\n",
            "[800]\ttraining's auc: 0.993404\tvalid_1's auc: 0.954961\n",
            "[1000]\ttraining's auc: 0.99641\tvalid_1's auc: 0.957282\n",
            "Did not meet early stopping. Best iteration is:\n",
            "[1000]\ttraining's auc: 0.99641\tvalid_1's auc: 0.957282\n",
            "Fold: 7\n",
            "546784 60753\n",
            "Training until validation scores don't improve for 100 rounds.\n",
            "[200]\ttraining's auc: 0.95218\tvalid_1's auc: 0.911825\n",
            "[400]\ttraining's auc: 0.976307\tvalid_1's auc: 0.935833\n",
            "[600]\ttraining's auc: 0.987899\tvalid_1's auc: 0.9454\n",
            "[800]\ttraining's auc: 0.993577\tvalid_1's auc: 0.950095\n",
            "[1000]\ttraining's auc: 0.996419\tvalid_1's auc: 0.952687\n",
            "Did not meet early stopping. Best iteration is:\n",
            "[1000]\ttraining's auc: 0.996419\tvalid_1's auc: 0.952687\n",
            "Fold: 8\n",
            "546784 60753\n",
            "Training until validation scores don't improve for 100 rounds.\n",
            "[200]\ttraining's auc: 0.953421\tvalid_1's auc: 0.916211\n",
            "[400]\ttraining's auc: 0.976405\tvalid_1's auc: 0.935\n",
            "[600]\ttraining's auc: 0.987919\tvalid_1's auc: 0.943094\n",
            "[800]\ttraining's auc: 0.993578\tvalid_1's auc: 0.946821\n",
            "[1000]\ttraining's auc: 0.99652\tvalid_1's auc: 0.948322\n",
            "Did not meet early stopping. Best iteration is:\n",
            "[1000]\ttraining's auc: 0.99652\tvalid_1's auc: 0.948322\n",
            "Fold: 9\n",
            "546784 60753\n",
            "Training until validation scores don't improve for 100 rounds.\n",
            "[200]\ttraining's auc: 0.94723\tvalid_1's auc: 0.981675\n",
            "[400]\ttraining's auc: 0.972643\tvalid_1's auc: 0.986884\n",
            "[600]\ttraining's auc: 0.985546\tvalid_1's auc: 0.988796\n",
            "[800]\ttraining's auc: 0.991962\tvalid_1's auc: 0.989417\n",
            "[1000]\ttraining's auc: 0.995413\tvalid_1's auc: 0.989634\n",
            "Did not meet early stopping. Best iteration is:\n",
            "[1000]\ttraining's auc: 0.995413\tvalid_1's auc: 0.989634\n"
          ],
          "name": "stdout"
        }
      ]
    },
    {
      "cell_type": "code",
      "metadata": {
        "id": "UeJzAQg8wMJD",
        "colab_type": "code",
        "colab": {}
      },
      "source": [
        "# ######################## Export\n",
        "if not LOCAL_TEST:\n",
        "    test_predictions['isFraud'] = test_predictions['prediction']\n",
        "    test_predictions[['TransactionID','isFraud']].to_csv('output_lgb_0.csv', index=False)\n"
      ],
      "execution_count": 0,
      "outputs": []
    }
  ]
}